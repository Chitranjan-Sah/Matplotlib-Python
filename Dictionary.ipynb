{
 "cells": [
  {
   "cell_type": "code",
   "execution_count": 2,
   "id": "f1f7541a",
   "metadata": {},
   "outputs": [
    {
     "name": "stdout",
     "output_type": "stream",
     "text": [
      "\n",
      "Dictionary with the use of Integer Keys: \n",
      "{1: 'Fruits', 2: 'Vegetable', 3: 'Dairy'}\n",
      "\n",
      "Dictionary with the use of Mixed Keys: \n",
      "{'Name': 'Newton', 1: [10, 20, 30]}\n"
     ]
    }
   ],
   "source": [
    "# Creating a Dictionary\n",
    "# with Integer Keys\n",
    "Dict1 = {1: 'Fruits', 2: 'Vegetable', 3: 'Dairy'}\n",
    "print(\"\\nDictionary with the use of Integer Keys: \")\n",
    "print(Dict1)\n",
    " \n",
    "# Creating a Dictionary\n",
    "# with Mixed keys\n",
    "Dict2 = {'Name': 'Newton', 1: [10, 20, 30]}\n",
    "print(\"\\nDictionary with the use of Mixed Keys: \")\n",
    "print(Dict2)"
   ]
  },
  {
   "cell_type": "code",
   "execution_count": 1,
   "id": "3895e8de",
   "metadata": {},
   "outputs": [
    {
     "name": "stdout",
     "output_type": "stream",
     "text": [
      "Empty Dictionary \n",
      "\n",
      "{}\n",
      "\n",
      "Dictionary with the use of dict(): \n",
      "{1: 'Banana', 2: 'Apple', 3: 'Mango', 4: 'Cherry'}\n",
      "\n",
      "Dictionary with each item as a pair: \n",
      "{1: 'Python', 2: 'Programming'}\n"
     ]
    }
   ],
   "source": [
    "# Creating a Dictionary\n",
    "# with dict() method\n",
    "Dict1 = dict({})\n",
    "print(\"Empty Dictionary \\n\")\n",
    "print(Dict1)\n",
    "Dict2 = dict({1: 'Banana', 2: 'Apple', 3:'Mango', 4: 'Cherry'})\n",
    "print(\"\\nDictionary with the use of dict(): \")\n",
    "print(Dict2)\n",
    " \n",
    "# Creating a Dictionary\n",
    "# with each item as a Pair\n",
    "Dict3 = dict([(1, 'Python'), (2, 'Programming')])\n",
    "print(\"\\nDictionary with each item as a pair: \")\n",
    "print(Dict3)"
   ]
  },
  {
   "cell_type": "code",
   "execution_count": 2,
   "id": "f20e931b",
   "metadata": {},
   "outputs": [
    {
     "name": "stdout",
     "output_type": "stream",
     "text": [
      "{1: 'Apple', 2: 'Cherry', 3: {'A': 'Welcome', 'B': 'To', 'C': 'Python'}}\n"
     ]
    }
   ],
   "source": [
    "# Creating a Nested Dictionary\n",
    "Dict4 = {1: 'Apple', 2: 'Cherry',\n",
    "        3:{'A' : 'Welcome', 'B' : 'To', 'C' : 'Python'}}\n",
    " \n",
    "print(Dict4)"
   ]
  },
  {
   "cell_type": "code",
   "execution_count": 3,
   "id": "7ab01c36",
   "metadata": {},
   "outputs": [
    {
     "name": "stdout",
     "output_type": "stream",
     "text": [
      "Empty Dictionary: \n",
      "{}\n",
      "\n",
      "Dictionary after adding 2 elements: \n",
      "{1: 'Mango', 2: 'Lytchee'}\n",
      "\n",
      "Dictionary after adding 3 elements: \n",
      "{1: 'Mango', 2: 'Lytchee', 'Value_set': (2, 3, 4)}\n",
      "\n",
      "Updated key value: \n",
      "{1: 'Mango', 2: 'Welcome', 'Value_set': (2, 3, 4)}\n",
      "\n",
      "Adding a Nested Key: \n",
      "{1: 'Mango', 2: 'Welcome', 'Value_set': (2, 3, 4), 5: {'Nested': {'1': 'Python', '2': 'Program'}}}\n"
     ]
    }
   ],
   "source": [
    "# Creating an empty Dictionary\n",
    "Dict = {}\n",
    "print(\"Empty Dictionary: \")\n",
    "print(Dict) \n",
    "# Adding elements one at a time\n",
    "Dict[1] = 'Mango'\n",
    "Dict[2] = 'Lytchee'\n",
    "print(\"\\nDictionary after adding 2 elements: \")\n",
    "print(Dict) \n",
    "# Adding set of values\n",
    "# to a single Key\n",
    "Dict['Value_set'] = 2, 3, 4\n",
    "print(\"\\nDictionary after adding 3 elements: \")\n",
    "print(Dict) \n",
    "# Updating existing Key's Value\n",
    "Dict[2] = 'Welcome'\n",
    "print(\"\\nUpdated key value: \")\n",
    "print(Dict)\n",
    "# Adding Nested Key value to Dictionary\n",
    "Dict[5] = {'Nested' :{'1' : 'Python', '2' : 'Program'}}\n",
    "print(\"\\nAdding a Nested Key: \")\n",
    "print(Dict)"
   ]
  },
  {
   "cell_type": "code",
   "execution_count": 1,
   "id": "f9f1ab21",
   "metadata": {},
   "outputs": [
    {
     "name": "stdout",
     "output_type": "stream",
     "text": [
      "Accessing a element using key:\n",
      "Python\n",
      "Accessing a element using key:\n",
      "Lytchee\n"
     ]
    }
   ],
   "source": [
    "# Creating a Dictionary\n",
    "Dict = {1: 'Apple', 'name': 'Python', 3: 'Lytchee'} \n",
    "# accessing a element using key\n",
    "print(\"Accessing a element using key:\")\n",
    "print(Dict['name']) \n",
    "# accessing a element using key\n",
    "print(\"Accessing a element using key:\")\n",
    "print(Dict[3])"
   ]
  },
  {
   "cell_type": "code",
   "execution_count": 2,
   "id": "743454fc",
   "metadata": {},
   "outputs": [
    {
     "name": "stdout",
     "output_type": "stream",
     "text": [
      "Accessing a element using get:\n",
      "Cherry\n"
     ]
    }
   ],
   "source": [
    "# Creating a Dictionary\n",
    "Dict = {1: 'Apple', 'name': 'Rajesh', 3: 'Cherry'} \n",
    "# accessing a element using get()\n",
    "# method\n",
    "print(\"Accessing a element using get:\")\n",
    "print(Dict.get(3))"
   ]
  },
  {
   "cell_type": "code",
   "execution_count": 3,
   "id": "1e0b7457",
   "metadata": {},
   "outputs": [
    {
     "name": "stdout",
     "output_type": "stream",
     "text": [
      "{1: 'Apple'}\n",
      "Apple\n",
      "Python\n"
     ]
    }
   ],
   "source": [
    "# Creating a Dictionary\n",
    "Dict = {'Dict1': {1: 'Apple'},\n",
    "        'Dict2': {'Name': 'Python'}} \n",
    "# Accessing element using key\n",
    "print(Dict['Dict1'])\n",
    "print(Dict['Dict1'][1])\n",
    "print(Dict['Dict2']['Name'])"
   ]
  },
  {
   "cell_type": "code",
   "execution_count": 4,
   "id": "4f7082cc",
   "metadata": {},
   "outputs": [
    {
     "name": "stdout",
     "output_type": "stream",
     "text": [
      "Initial Dictionary: \n",
      "{2: 'Welcome', 4: 'To', 6: 'Python', 'A': {1: 'Python', 2: 'For', 3: 'Mechanical'}, 'B': {1: 'Happy', 2: 'Life'}}\n",
      "\n",
      "Deleting a specific key: \n",
      "{2: 'Welcome', 4: 'To', 'A': {1: 'Python', 2: 'For', 3: 'Mechanical'}, 'B': {1: 'Happy', 2: 'Life'}}\n",
      "\n",
      "Deleting a key from Nested Dictionary: \n",
      "{2: 'Welcome', 4: 'To', 'A': {1: 'Python', 3: 'Mechanical'}, 'B': {1: 'Happy', 2: 'Life'}}\n"
     ]
    }
   ],
   "source": [
    "# Initial Dictionary\n",
    "Dict = { 2 : 'Welcome', 4 : 'To', 6 : 'Python',\n",
    "        'A' : {1 : 'Python', 2 : 'For', 3 : 'Mechanical'},\n",
    "        'B' : {1 : 'Happy', 2 : 'Life'}}\n",
    "print(\"Initial Dictionary: \")\n",
    "print(Dict) \n",
    "# Deleting a Key value\n",
    "del Dict[6]\n",
    "print(\"\\nDeleting a specific key: \")\n",
    "print(Dict) \n",
    "# Deleting a Key from\n",
    "# Nested Dictionary\n",
    "del Dict['A'][2]\n",
    "print(\"\\nDeleting a key from Nested Dictionary: \")\n",
    "print(Dict)"
   ]
  },
  {
   "cell_type": "code",
   "execution_count": 5,
   "id": "a850ee2c",
   "metadata": {},
   "outputs": [
    {
     "name": "stdout",
     "output_type": "stream",
     "text": [
      "\n",
      "Dictionary after deletion: {'name': 'Express', 3: 'Car'}\n",
      "Value associated to poped key is: Bus\n"
     ]
    }
   ],
   "source": [
    "# Creating a Dictionary\n",
    "Dict = {1: 'Bus', 'name': 'Express', 3: 'Car'} \n",
    "# Deleting a key\n",
    "# using pop() method\n",
    "pop_ele = Dict.pop(1)\n",
    "print('\\nDictionary after deletion: ' + str(Dict))\n",
    "print('Value associated to poped key is: ' + str(pop_ele))"
   ]
  },
  {
   "cell_type": "code",
   "execution_count": 14,
   "id": "fb2db469",
   "metadata": {},
   "outputs": [
    {
     "name": "stdout",
     "output_type": "stream",
     "text": [
      "\n",
      "Dictionary after deletion: {1: 'Python', 'name': 'For', 3: 'Mechanical'}\n",
      "The arbitrary pair returned is: (4, 'Engineering')\n"
     ]
    }
   ],
   "source": [
    "# Creating Dictionary\n",
    "Dict = {1: 'Python', 'name': 'For', 3: 'Mechanical', 4: 'Engineering'} \n",
    "# Deleting an arbitrary key\n",
    "# using popitem() function\n",
    "pop_ele = Dict.popitem()\n",
    "print(\"\\nDictionary after deletion: \" + str(Dict))\n",
    "print(\"The arbitrary pair returned is: \" + str(pop_ele))"
   ]
  },
  {
   "cell_type": "code",
   "execution_count": 21,
   "id": "d4cd59b8",
   "metadata": {},
   "outputs": [
    {
     "name": "stdout",
     "output_type": "stream",
     "text": [
      "Initial Dictionary\n",
      " Dict = {1: 'Python', 'name': 'For Mechanical', 3: 'Engineering'}\n",
      "\n",
      "After Deleting Entire Dictionary: \n",
      "{}\n"
     ]
    }
   ],
   "source": [
    "# Creating a Dictionary\n",
    "Dict = {1: 'Python', 'name': 'For Mechanical', 3: 'Engineering'}\n",
    "print(\"Initial Dictionary\\n Dict =\", Dict)\n",
    "# Deleting entire Dictionary\n",
    "Dict.clear()\n",
    "print(\"\\nAfter Deleting Entire Dictionary: \")\n",
    "print(Dict)"
   ]
  },
  {
   "cell_type": "code",
   "execution_count": 24,
   "id": "57b55a02",
   "metadata": {},
   "outputs": [
    {
     "name": "stdout",
     "output_type": "stream",
     "text": [
      "new:  {}\n",
      "original:  {1: 'Bus', 2: 'Car'}\n"
     ]
    }
   ],
   "source": [
    "# Python program to demonstrate working\n",
    "# of dictionary copy\n",
    "original = {1: 'Bus', 2: 'Car'} \n",
    "# copying using copy() function\n",
    "new = original.copy() \n",
    "# removing all elements from the list\n",
    "# Only new list becomes empty as copy()\n",
    "# does shallow copy.\n",
    "new.clear() \n",
    "print('new: ', new)\n",
    "print('original: ', original)"
   ]
  },
  {
   "cell_type": "code",
   "execution_count": null,
   "id": "ab12713f",
   "metadata": {},
   "outputs": [],
   "source": []
  }
 ],
 "metadata": {
  "kernelspec": {
   "display_name": "Python 3 (ipykernel)",
   "language": "python",
   "name": "python3"
  },
  "language_info": {
   "codemirror_mode": {
    "name": "ipython",
    "version": 3
   },
   "file_extension": ".py",
   "mimetype": "text/x-python",
   "name": "python",
   "nbconvert_exporter": "python",
   "pygments_lexer": "ipython3",
   "version": "3.9.7"
  }
 },
 "nbformat": 4,
 "nbformat_minor": 5
}
